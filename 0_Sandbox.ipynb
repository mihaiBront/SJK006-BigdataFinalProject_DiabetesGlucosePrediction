{
 "cells": [
  {
   "cell_type": "code",
   "execution_count": 1,
   "metadata": {},
   "outputs": [],
   "source": [
    "import json\n",
    "\n",
    "with open(\"configs/activities_calory_consumption.json\") as f:\n",
    "    string_json = f.read()\n",
    "\n",
    "dict_json = json.loads(string_json)\n",
    "\n",
    "og_period = 15\n",
    "new_period = 1\n",
    "\n",
    "for key, value in dict_json.items():\n",
    "    dict_json[key] = value * new_period / og_period\n",
    "    \n",
    "with open(\"configs/activities_calory_consumption.json\", \"w\") as f:\n",
    "    json.dump(dict_json, f, indent=4)"
   ]
  }
 ],
 "metadata": {
  "kernelspec": {
   "display_name": ".venv",
   "language": "python",
   "name": "python3"
  },
  "language_info": {
   "codemirror_mode": {
    "name": "ipython",
    "version": 3
   },
   "file_extension": ".py",
   "mimetype": "text/x-python",
   "name": "python",
   "nbconvert_exporter": "python",
   "pygments_lexer": "ipython3",
   "version": "3.12.3"
  }
 },
 "nbformat": 4,
 "nbformat_minor": 2
}
