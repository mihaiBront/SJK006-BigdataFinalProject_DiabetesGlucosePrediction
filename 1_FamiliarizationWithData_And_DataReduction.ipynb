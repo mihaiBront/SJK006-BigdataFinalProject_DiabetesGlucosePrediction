{
 "cells": [
  {
   "cell_type": "markdown",
   "metadata": {},
   "source": [
    "<b style=\"font-size:30px\">BrisT1D Blood Glucose Prediction Competition</b></br>\n",
    "<t style=\"font-size:24px\">Using historical blood glucose readings, insulin dosage, carbohydrate intake, and smartwatch activity data to predict future blood glucose.</t>\n",
    "\n",
    "# Overview\n",
    "Predicting blood glucose fluctuations is crucial for managing type 1 diabetes. Developing effective algorithms for this can alleviate some of the challenges faced by individuals with the condition.\n",
    "\n",
    "# Description\n",
    "## Type 1 Diabetes\n",
    "Type 1 diabetes is a chronic condition in which the body no longer produces the hormone insulin and therefore cannot regulate the amount of glucose (sugar) in the bloodstream. Without careful management, this can be life-threatening and so those with the condition need to inject insulin to manage their blood glucose levels themselves. There are many different factors that impact blood glucose levels, including eating, physical activity, stress, illness, sleep, alcohol, and many more, so calculating how much insulin to give is complex. The continuous need to think about how an action may impact blood glucose levels and what to do to counteract it is a significant burden for those with type 1 diabetes.\n",
    "\n",
    "An important part of type 1 diabetes management is working out how blood glucose levels are going to change in the future. Algorithms of varying levels of complexity have been developed that perform this prediction but the messy nature of health data and the numerous unmeasured factors mean there is a limit to how effective they can be. This competition aims to build on this work by challenging people to predict future blood glucose on a newly collected dataset.\n",
    "\n",
    "## The Dataset\n",
    "The data used in this competition is part of a newly collected dataset of real-world data collected from young adults in the UK who have type 1 diabetes. All participants used continuous glucose monitors, and insulin pumps and were given a smartwatch as part of the study to collect activity data. The complete dataset will be published after the competition for research purposes. Some more details about the study can be found in this blog post.\n",
    "\n",
    "## Evaluation\n",
    "Submissions are evaluated on Root Mean Square Error (RMSE) between the predicted blood glucose levels an hour into the future and the actual values that were then collected.\n",
    "\n",
    "The RMSE value is calculated from the bg+1:00(future blood glucose) prediction values in the submission file against the true future blood glucose values. The RMSE values for the public and private leaderboards are calculated from unknown and non-overlapping samples from the submission file across all of the participants.\n",
    "\n",
    "## Submission File\n",
    "For each ID in the test set, you must predict a blood glucose value an hour into the future. The file should contain a header and have the following format:\n",
    "\n",
    "```csv\n",
    "id,bg+1:00\n",
    "p01_0,6.3\n",
    "p01_1,6.3\n",
    "p01_2,6.3\n",
    "etc.\n",
    "```\n",
    "\n",
    "# Dataset Description\n",
    "The dataset is from a study that collected data from young adults in the UK with type 1 diabetes, who used a continuous glucose monitor (CGM), an insulin pump and a smartwatch. These devices collected blood glucose readings, insulin dosage, carbohydrate intake, and activity data. The data collected was aggregated to five-minute intervals and formatted into samples. Each sample represents a point in time and includes the aggregated five-minute intervals from the previous six hours. The aim is to predict the blood glucose reading an hour into the future, for each of these samples.\n",
    "\n",
    "The training set takes samples from the first three months of study data from nine of the participants and includes the future blood glucose value. These training samples appear in chronological order and overlap. The testing set takes samples from the remainder of the study period from fifteen of the participants (so unseen participants appear in the testing set). These testing samples do not overlap and are in a random order to avoid data leakage.\n",
    "\n",
    "## Complexities to be aware of:\n",
    "\n",
    "this is medical data so there are missing values and noise in the data\n",
    "the participants did not all use the same device models (CGM, insulin pump and smartwatch) so there may be differences in the collection method of the data\n",
    "some participants in the test set do not appear in the training set\n",
    "\n",
    "### Files:\n",
    "- `activities.txt` - a list of activity names that appear in the activity-X:XX columns\n",
    "- `sample_submission.csv` - a sample submission file in the correct format\n",
    "- `test.csv` - the test set\n",
    "- `train.csv` - the training set\n",
    "\n",
    "### Columns in the dataset\n",
    "- `train.csv`\n",
    "- `id` - row id consisting of participant number and a count for that participant\n",
    "- `p_num` - participant number\n",
    "- `time` - time of day in the format HH:MM:SS\n",
    "- `bg-X:XX` - blood glucose reading in mmol/L, X:XX(H:MM) time in the past (e.g. bg-2:35, would be the blood glucose reading from 2 hours and 35 minutes before the time value for that row), recorded by the continuous glucose monitor\n",
    "- `insulin-X:XX` - total insulin dose received in units in the last 5 minutes, X:XX(H:MM) time in the past (e.g. insulin-2:35, would be the total insulin dose received between 2 hours and 40 minutes and 2 hours and 35 minutes before the time value for that row), recorded by the insulin pump\n",
    "- `carbs-X:XX` - total carbohydrate value consumed in grammes in the last 5 minutes, X:XX(H:MM) time in the past (e.g. carbs-2:35, would be the total carbohydrate value consumed between 2 hours and 40 minutes and 2 hours and 35 minutes before the time value for that row), recorded by the participant\n",
    "- `hr-X:XX` - mean heart rate in beats per minute in the last 5 minutes, X:XX(H:MM) time in the past (e.g. hr-2:35, would be the mean heart rate between 2 hours and 40 minutes and 2 hours and 35 minutes before the time value for that row), recorded by the smartwatch\n",
    "- `steps-X:XX` - total steps walked in the last 5 minutes, X:XX(H:MM) time in the past (e.g. steps-2:35, would be the total steps walked between 2 hours and 40 minutes and 2 hours and 35 minutes before the time value for that row), recorded by the smartwatch\n",
    "- `cals-X:XX` - total calories burnt in the last 5 minutes, X:XX(H:MM) time in the past (e.g. cals-2:35, would be the total calories burned between 2 hours and 40 minutes and 2 hours and 35 minutes before the time value for that row), calculated by the smartwatch\n",
    "- `activity-X:XX` - self-declared activity performed in the last 5 minutes, X:XX(H:MM) time in the past (e.g. activity-2:35, would show a string name of the activity performed between 2 hours and 40 minutes and 2 hours and 35 minutes before the time value for that row), set on the smartwatch\n",
    "- `bg+1:00` - blood glucose reading in mmol/L an hour in the future, this is the value you will be predicting (not provided in test.csv)"
   ]
  },
  {
   "cell_type": "markdown",
   "metadata": {},
   "source": [
    "# Data cleaning and dimensionality reduction"
   ]
  },
  {
   "cell_type": "markdown",
   "metadata": {},
   "source": [
    "## a) loading `train.csv` from dataset"
   ]
  },
  {
   "cell_type": "code",
   "execution_count": 30,
   "metadata": {},
   "outputs": [],
   "source": [
    "import pandas as pd\n",
    "import numpy as np\n",
    "from matplotlib import pyplot as plt\n",
    "import os\n",
    "import json\n"
   ]
  },
  {
   "cell_type": "code",
   "execution_count": 31,
   "metadata": {},
   "outputs": [
    {
     "name": "stderr",
     "output_type": "stream",
     "text": [
      "/tmp/ipykernel_26074/1032061791.py:1: DtypeWarning: Columns (435,436,437,438,439,440,441,442,443,444,445,446,447,448,449,450,451,452,453,454,455,456,457,458,459,460,461,462,463,464,465,466,467,468,469,470,471,472,473,474,475,476,477,478,479,480,481,482,483,484,485,486,487,488,489,490,491,492,493,494,495,496,497,498,499,500,501,502,503,504,505,506) have mixed types. Specify dtype option on import or set low_memory=False.\n",
      "  df = pd.read_csv(\"dataset/train.csv\")\n"
     ]
    }
   ],
   "source": [
    "\n",
    "df = pd.read_csv(\"dataset/train.csv\")\n"
   ]
  },
  {
   "cell_type": "markdown",
   "metadata": {},
   "source": [
    "## b) Extract only the time from the time column"
   ]
  },
  {
   "cell_type": "code",
   "execution_count": 32,
   "metadata": {},
   "outputs": [
    {
     "data": {
      "text/html": [
       "<div>\n",
       "<style scoped>\n",
       "    .dataframe tbody tr th:only-of-type {\n",
       "        vertical-align: middle;\n",
       "    }\n",
       "\n",
       "    .dataframe tbody tr th {\n",
       "        vertical-align: top;\n",
       "    }\n",
       "\n",
       "    .dataframe thead th {\n",
       "        text-align: right;\n",
       "    }\n",
       "</style>\n",
       "<table border=\"1\" class=\"dataframe\">\n",
       "  <thead>\n",
       "    <tr style=\"text-align: right;\">\n",
       "      <th></th>\n",
       "      <th>id</th>\n",
       "      <th>p_num</th>\n",
       "      <th>time</th>\n",
       "      <th>bg-5:55</th>\n",
       "      <th>bg-5:50</th>\n",
       "      <th>bg-5:45</th>\n",
       "      <th>bg-5:40</th>\n",
       "      <th>bg-5:35</th>\n",
       "      <th>bg-5:30</th>\n",
       "      <th>bg-5:25</th>\n",
       "      <th>...</th>\n",
       "      <th>activity-0:40</th>\n",
       "      <th>activity-0:35</th>\n",
       "      <th>activity-0:30</th>\n",
       "      <th>activity-0:25</th>\n",
       "      <th>activity-0:20</th>\n",
       "      <th>activity-0:15</th>\n",
       "      <th>activity-0:10</th>\n",
       "      <th>activity-0:05</th>\n",
       "      <th>activity-0:00</th>\n",
       "      <th>bg+1:00</th>\n",
       "    </tr>\n",
       "  </thead>\n",
       "  <tbody>\n",
       "    <tr>\n",
       "      <th>0</th>\n",
       "      <td>p01_0</td>\n",
       "      <td>p01</td>\n",
       "      <td>06:10:00</td>\n",
       "      <td>NaN</td>\n",
       "      <td>NaN</td>\n",
       "      <td>9.6</td>\n",
       "      <td>NaN</td>\n",
       "      <td>NaN</td>\n",
       "      <td>9.7</td>\n",
       "      <td>NaN</td>\n",
       "      <td>...</td>\n",
       "      <td>NaN</td>\n",
       "      <td>NaN</td>\n",
       "      <td>NaN</td>\n",
       "      <td>NaN</td>\n",
       "      <td>NaN</td>\n",
       "      <td>NaN</td>\n",
       "      <td>NaN</td>\n",
       "      <td>NaN</td>\n",
       "      <td>NaN</td>\n",
       "      <td>13.4</td>\n",
       "    </tr>\n",
       "    <tr>\n",
       "      <th>1</th>\n",
       "      <td>p01_1</td>\n",
       "      <td>p01</td>\n",
       "      <td>06:25:00</td>\n",
       "      <td>NaN</td>\n",
       "      <td>NaN</td>\n",
       "      <td>9.7</td>\n",
       "      <td>NaN</td>\n",
       "      <td>NaN</td>\n",
       "      <td>9.2</td>\n",
       "      <td>NaN</td>\n",
       "      <td>...</td>\n",
       "      <td>NaN</td>\n",
       "      <td>NaN</td>\n",
       "      <td>NaN</td>\n",
       "      <td>NaN</td>\n",
       "      <td>NaN</td>\n",
       "      <td>NaN</td>\n",
       "      <td>NaN</td>\n",
       "      <td>NaN</td>\n",
       "      <td>NaN</td>\n",
       "      <td>12.8</td>\n",
       "    </tr>\n",
       "    <tr>\n",
       "      <th>2</th>\n",
       "      <td>p01_2</td>\n",
       "      <td>p01</td>\n",
       "      <td>06:40:00</td>\n",
       "      <td>NaN</td>\n",
       "      <td>NaN</td>\n",
       "      <td>9.2</td>\n",
       "      <td>NaN</td>\n",
       "      <td>NaN</td>\n",
       "      <td>8.7</td>\n",
       "      <td>NaN</td>\n",
       "      <td>...</td>\n",
       "      <td>NaN</td>\n",
       "      <td>NaN</td>\n",
       "      <td>NaN</td>\n",
       "      <td>NaN</td>\n",
       "      <td>NaN</td>\n",
       "      <td>NaN</td>\n",
       "      <td>NaN</td>\n",
       "      <td>NaN</td>\n",
       "      <td>NaN</td>\n",
       "      <td>15.5</td>\n",
       "    </tr>\n",
       "    <tr>\n",
       "      <th>3</th>\n",
       "      <td>p01_3</td>\n",
       "      <td>p01</td>\n",
       "      <td>06:55:00</td>\n",
       "      <td>NaN</td>\n",
       "      <td>NaN</td>\n",
       "      <td>8.7</td>\n",
       "      <td>NaN</td>\n",
       "      <td>NaN</td>\n",
       "      <td>8.4</td>\n",
       "      <td>NaN</td>\n",
       "      <td>...</td>\n",
       "      <td>NaN</td>\n",
       "      <td>NaN</td>\n",
       "      <td>NaN</td>\n",
       "      <td>NaN</td>\n",
       "      <td>NaN</td>\n",
       "      <td>NaN</td>\n",
       "      <td>NaN</td>\n",
       "      <td>NaN</td>\n",
       "      <td>NaN</td>\n",
       "      <td>14.8</td>\n",
       "    </tr>\n",
       "    <tr>\n",
       "      <th>4</th>\n",
       "      <td>p01_4</td>\n",
       "      <td>p01</td>\n",
       "      <td>07:10:00</td>\n",
       "      <td>NaN</td>\n",
       "      <td>NaN</td>\n",
       "      <td>8.4</td>\n",
       "      <td>NaN</td>\n",
       "      <td>NaN</td>\n",
       "      <td>8.1</td>\n",
       "      <td>NaN</td>\n",
       "      <td>...</td>\n",
       "      <td>NaN</td>\n",
       "      <td>NaN</td>\n",
       "      <td>NaN</td>\n",
       "      <td>NaN</td>\n",
       "      <td>NaN</td>\n",
       "      <td>NaN</td>\n",
       "      <td>NaN</td>\n",
       "      <td>NaN</td>\n",
       "      <td>NaN</td>\n",
       "      <td>12.7</td>\n",
       "    </tr>\n",
       "  </tbody>\n",
       "</table>\n",
       "<p>5 rows × 508 columns</p>\n",
       "</div>"
      ],
      "text/plain": [
       "      id p_num      time  bg-5:55  bg-5:50  bg-5:45  bg-5:40  bg-5:35  \\\n",
       "0  p01_0   p01  06:10:00      NaN      NaN      9.6      NaN      NaN   \n",
       "1  p01_1   p01  06:25:00      NaN      NaN      9.7      NaN      NaN   \n",
       "2  p01_2   p01  06:40:00      NaN      NaN      9.2      NaN      NaN   \n",
       "3  p01_3   p01  06:55:00      NaN      NaN      8.7      NaN      NaN   \n",
       "4  p01_4   p01  07:10:00      NaN      NaN      8.4      NaN      NaN   \n",
       "\n",
       "   bg-5:30  bg-5:25  ...  activity-0:40  activity-0:35  activity-0:30  \\\n",
       "0      9.7      NaN  ...            NaN            NaN            NaN   \n",
       "1      9.2      NaN  ...            NaN            NaN            NaN   \n",
       "2      8.7      NaN  ...            NaN            NaN            NaN   \n",
       "3      8.4      NaN  ...            NaN            NaN            NaN   \n",
       "4      8.1      NaN  ...            NaN            NaN            NaN   \n",
       "\n",
       "   activity-0:25  activity-0:20  activity-0:15  activity-0:10  activity-0:05  \\\n",
       "0            NaN            NaN            NaN            NaN            NaN   \n",
       "1            NaN            NaN            NaN            NaN            NaN   \n",
       "2            NaN            NaN            NaN            NaN            NaN   \n",
       "3            NaN            NaN            NaN            NaN            NaN   \n",
       "4            NaN            NaN            NaN            NaN            NaN   \n",
       "\n",
       "   activity-0:00  bg+1:00  \n",
       "0            NaN     13.4  \n",
       "1            NaN     12.8  \n",
       "2            NaN     15.5  \n",
       "3            NaN     14.8  \n",
       "4            NaN     12.7  \n",
       "\n",
       "[5 rows x 508 columns]"
      ]
     },
     "execution_count": 32,
     "metadata": {},
     "output_type": "execute_result"
    }
   ],
   "source": [
    "df_edited = df.copy()\n",
    "\n",
    "df_edited[\"time\"] = pd.to_datetime(df[\"time\"], format='%H:%M:%S')\n",
    "df_edited[\"time\"] = df_edited[\"time\"].dt.time\n",
    "\n",
    "df_edited.head()\n"
   ]
  },
  {
   "cell_type": "markdown",
   "metadata": {},
   "source": [
    "## c) Computing the day for each person \n",
    "\n",
    "- The day must be known, otherwhise the data would be cyclic (some other approach can be taken, such as converting the time into a polar/cyclic variable such as an angle)\n",
    "- The ID contains the patient identifier and the id of the row: `p{patient_id}{measurement_id}`\n",
    "- We need to account for when noon is passed (finding the moment when the `hour[i-1] > hour[i]` (past noon); then adding one day)\n",
    "- The competition opened on 18th September 2024, so we're gona take that as starting date (due to lack of any definition)"
   ]
  },
  {
   "cell_type": "code",
   "execution_count": 33,
   "metadata": {},
   "outputs": [],
   "source": [
    "\n",
    "# Calculate day column based on hours and patient ID\n",
    "df_day = df_edited.groupby('p_num')['time'].apply(lambda x: (x < x.shift(1)).cumsum())\n",
    "\n",
    "# Select third column from df_day\n",
    "df_edited[\"day\"] = df_day.reset_index(level=0, drop=True)\n",
    "\n",
    "# Convert time to datetime by combining with base date and adding days\n",
    "df_edited['date'] = pd.to_datetime('2000-09-18') + pd.to_timedelta(df_edited['day'], unit='D')\n",
    "df_edited['datetime'] = pd.to_datetime(df_edited['date'].astype(str) + ' ' + df_edited['time'].astype(str))\n",
    "df_edited[\"time\"] = df_edited[\"datetime\"]\n",
    "df_edited = df_edited.drop(columns=['date', 'datetime', \"day\"])"
   ]
  },
  {
   "cell_type": "markdown",
   "metadata": {},
   "source": [
    "c)  Map the p_num column to numeric values"
   ]
  },
  {
   "cell_type": "code",
   "execution_count": 34,
   "metadata": {},
   "outputs": [],
   "source": [
    "\n",
    "# Create a dictionary to map patient strings to numeric IDs\n",
    "patient_map = {}\n",
    "counter = 0\n",
    "\n",
    "def convert_patient_id(p_num):\n",
    "    # If patient not seen before, assign new numeric ID\n",
    "    if p_num not in patient_map:\n",
    "        global counter\n",
    "        patient_map[p_num] = counter\n",
    "        counter += 1\n",
    "    return patient_map[p_num]\n",
    "\n",
    "# Convert p_num column to numeric IDs\n",
    "df_edited['p_num'] = df_edited['p_num'].apply(lambda x: convert_patient_id(x))"
   ]
  },
  {
   "cell_type": "code",
   "execution_count": 35,
   "metadata": {},
   "outputs": [],
   "source": [
    "def convert_measure_id(m_id):\n",
    "    return int(str(m_id).split(\"_\")[-1])\n",
    "\n",
    "df_edited['m_num'] = df_edited['id'].apply(lambda x: convert_measure_id(x))"
   ]
  },
  {
   "cell_type": "markdown",
   "metadata": {},
   "source": [
    "## e) Remove \"repeated data columns\"\n",
    "Remove all columns containing data from \"*some time ago*\", which is, effectively repeated data, and convert them into one column per concept\n"
   ]
  },
  {
   "cell_type": "markdown",
   "metadata": {},
   "source": [
    "### e1) One column per current **BACKGROUND GLUCOSE**:\n",
    "- Exploring the `bg-0:00` column reveals there are missing values. \n",
    "- Since the readings have actually been taken with a 15min interval, we can fill most of those gaps with the `bg-0:05` and `bg-0:05` column (*we assume those misbehaviors are due to the rounding when calculating \"how long ago the measures are from\" for making the dataset*)\n",
    "- There are also missing values for periods of time where - we assume - the patient's device lost tracking of the sensor, those will have to be filled by interpolation"
   ]
  },
  {
   "cell_type": "code",
   "execution_count": 36,
   "metadata": {},
   "outputs": [
    {
     "name": "stderr",
     "output_type": "stream",
     "text": [
      "/tmp/ipykernel_26074/3916135833.py:6: FutureWarning: A value is trying to be set on a copy of a DataFrame or Series through chained assignment using an inplace method.\n",
      "The behavior will change in pandas 3.0. This inplace method will never work because the intermediate object on which we are setting values always behaves as a copy.\n",
      "\n",
      "For example, when doing 'df[col].method(value, inplace=True)', try using 'df.method({col: value}, inplace=True)' or df[col] = df[col].method(value) instead, to perform the operation inplace on the original object.\n",
      "\n",
      "\n",
      "  df_edited[\"bg\"].interpolate(method='linear', limit_direction='forward', inplace=True)\n"
     ]
    }
   ],
   "source": [
    "\n",
    "# Function to fill NaN values in bg-0:00 with values from bg-0:05 or bg-0:10\n",
    "df_edited['bg'] = df_edited[['bg-0:00', 'bg-0:05', 'bg-0:10']].bfill(axis=1).iloc[:, 0]\n",
    "df_edited.drop(columns=[col for col in df.columns if 'bg-' in col.lower()], inplace=True)\n",
    "\n",
    "# Interpolate the still missing values\n",
    "df_edited[\"bg\"].interpolate(method='linear', limit_direction='forward', inplace=True)"
   ]
  },
  {
   "cell_type": "markdown",
   "metadata": {},
   "source": [
    "### e2) From the **INSULINE** rows, we'll only keep the insuline-0:00 column, reporting current insuline dose given by the pump"
   ]
  },
  {
   "cell_type": "code",
   "execution_count": 37,
   "metadata": {},
   "outputs": [],
   "source": [
    "df_edited[\"insulin\"] = df_edited[\"insulin-0:00\"].fillna(0.0)\n",
    "df_edited.drop(columns=[col for col in df_edited.columns if col.startswith(\"insulin-\")], axis=1, inplace=True)"
   ]
  },
  {
   "cell_type": "markdown",
   "metadata": {},
   "source": [
    "### e3) For the **CARBS**, we'll do the same as for the blood glucose.\n",
    "- We will solve the missing data by replacing the ingestion with 0\n",
    "- Then, we will apply a small window filter to the signal"
   ]
  },
  {
   "cell_type": "code",
   "execution_count": 38,
   "metadata": {},
   "outputs": [],
   "source": [
    "# Function to fill NaN values in bg-0:00 with values from bg-0:05 or bg-0:10\n",
    "df_edited['carbs'] = df_edited[['carbs-0:00', 'carbs-0:05', 'carbs-0:10']].bfill(axis=1).iloc[:, 0].fillna(0.0).rolling(3).mean()\n",
    "df_edited.drop(columns=[col for col in df_edited.columns if 'carbs-' in col.lower()], inplace=True)"
   ]
  },
  {
   "cell_type": "markdown",
   "metadata": {},
   "source": [
    "### e4) We'll only keep the current measure for **HEART-RATE** (although some patients didn't monitor that)"
   ]
  },
  {
   "cell_type": "code",
   "execution_count": 39,
   "metadata": {},
   "outputs": [],
   "source": [
    "df_edited[\"hr\"] = df_edited[\"hr-0:00\"].fillna(0.0)\n",
    "df_edited.drop(columns=[col for col in df_edited.columns if col.startswith(\"hr-\")], axis=1, inplace=True)"
   ]
  },
  {
   "cell_type": "markdown",
   "metadata": {},
   "source": [
    "### e5) Since the **STEPS** are additive, and they are measured every $5s$, we will make a steps column by adding the columns reporting the last $15min$\n",
    "- We will also resolve missing data by replacing it with $0 steps$"
   ]
  },
  {
   "cell_type": "code",
   "execution_count": 40,
   "metadata": {},
   "outputs": [],
   "source": [
    "# Function to fill NaN values in bg-0:00 with values from bg-0:05 or bg-0:10\n",
    "df_edited['steps'] = df_edited[['steps-0:00', 'steps-0:05', 'steps-0:10']].sum(axis=1)\n",
    "df_edited.drop(columns=[col for col in df_edited.columns if 'steps-' in col.lower()], inplace=True)"
   ]
  },
  {
   "cell_type": "markdown",
   "metadata": {},
   "source": [
    "### e6) **CALORIES** are, probably, derived from the steps information, so we will apply the same process as for said steps\n",
    "- Finally, the calories from here are added to the previously calculated \"exercice\" column "
   ]
  },
  {
   "cell_type": "code",
   "execution_count": 41,
   "metadata": {},
   "outputs": [],
   "source": [
    "# Function to fill NaN values in bg-0:00 with values from bg-0:05 or bg-0:10\n",
    "df_edited['cals'] = df_edited[['cals-0:00', 'cals-0:05', 'cals-0:10']].sum(axis=1)\n",
    "df_edited.drop(columns=[col for col in df_edited.columns if 'cals-' in col.lower()], inplace=True)\n"
   ]
  },
  {
   "cell_type": "markdown",
   "metadata": {},
   "source": [
    "## d) Accounting for the **activities**\n",
    "\n",
    "- Make a dictionary for all the available activities: The objective here is combining the activities into a single column. For that:\n",
    "  - We'll estimate a calory consumption for each present activity\n",
    "  - We will make a column for each of those activities, containing a $1$ if the activity is present for the moment of the reading, ore a $0$ if not\n",
    "  - Multiply each column by its activity's caloric consumption\n",
    "  - Sum the activity columns and the calory column to obtain a global calory consumption for each period in time"
   ]
  },
  {
   "cell_type": "markdown",
   "metadata": {},
   "source": [
    "### d1) Getting a list of all the present activities"
   ]
  },
  {
   "cell_type": "code",
   "execution_count": 42,
   "metadata": {},
   "outputs": [
    {
     "name": "stdout",
     "output_type": "stream",
     "text": [
      "Unique activities = dict_keys(['Walk', 'Run', 'Walking', 'Sport', 'Outdoor Bike', 'Swim', 'Aerobic Workout', 'Hike', 'Dancing', 'HIIT', 'Workout', 'Running', 'Yoga', 'Indoor climbing', 'Zumba', 'Swimming', 'Bike', 'Weights', 'Strength training', 'Tennis', 'Spinning', 'Stairclimber'])\n"
     ]
    },
    {
     "data": {
      "image/png": "[encoded data removed]",
      "text/plain": [
       "<Figure size 1600x600 with 1 Axes>"
      ]
     },
     "metadata": {},
     "output_type": "display_data"
    }
   ],
   "source": [
    "# Get the columns for the activities\n",
    "activity_cols = [col for col in df.columns if 'activity' in col.lower()]\n",
    "activity_df = df_edited[activity_cols]\n",
    "\n",
    "# Calculate frequencies for each activity across all columns\n",
    "activity_frequencies = {}\n",
    "for col in activity_df.columns:\n",
    "    value_counts = activity_df[col].value_counts()\n",
    "    for value, count in value_counts.items():\n",
    "        if value in activity_frequencies:\n",
    "            activity_frequencies[value] += count\n",
    "        else:\n",
    "            activity_frequencies[value] = count\n",
    "\n",
    "print(f\"Unique activities = {activity_frequencies.keys()}\")\n",
    "\n",
    "# save activities to json for later processing\n",
    "if not os.path.exists('dataset/processed'):\n",
    "    os.makedirs(\"dataset/processed\")\n",
    "with open('dataset/processed/activities_freq.json', 'w') as f:\n",
    "    f.write(json.dumps(activity_frequencies))\n",
    "\n",
    "totalActivityEntries = sum(activity_frequencies.values())\n",
    "for activity, frequency in activity_frequencies.items():\n",
    "    activity_frequencies[activity] = frequency / totalActivityEntries\n",
    "\n",
    "# Convert to sorted dictionary for better readability\n",
    "sorted_frequencies = dict(sorted(activity_frequencies.items(), key=lambda x: x[1], reverse=True))\n",
    "\n",
    "# Print frequencies\n",
    "plt.figure(figsize=(16, 6))\n",
    "bars = plt.bar([f\"{name[:9]}.\" for name in sorted_frequencies.keys()], sorted_frequencies.values())\n",
    "plt.ylabel(\"Frequency\")\n",
    "plt.xlabel(\"Activity\")\n",
    "plt.xticks(rotation=70)\n",
    "plt.title(\"Frequency of Activities Across All Columns\")\n",
    "\n",
    "# Add value labels on top of each bar\n",
    "for bar in bars:\n",
    "    height = bar.get_height()\n",
    "    plt.text(bar.get_x() + bar.get_width()/2., height,\n",
    "             f'{round(float(height)*100, 2)}%',\n",
    "             ha='center', va='bottom')\n",
    "\n",
    "plt.show()\n"
   ]
  },
  {
   "cell_type": "markdown",
   "metadata": {},
   "source": [
    "### d2) Now that we have a dictionary of all present sports, we can associate a calory consumption per period to every exercice.\n",
    "- The data for ellaborating this dictionary has been taken from [health.harvard.edu](https://www.health.harvard.edu/diet-and-weight-loss/calories-burned-in-30-minutes-for-people-of-three-different-weights)\n",
    "- The data there is per 30-minute exercice so the values on that table will be divided by 2 since our periods are 15-minute long\n",
    "- The weight considered will be the closest to the average weight in the population $155lb = 70kg \\approx 65kg(average)$\n",
    "\n",
    "> Here is a table of what exercices have been considered equivalents between the dataset and the Harvard table:\n",
    "> | Our dataset | Harvard Table | Value (kCal/15min) |\n",
    "> |---|---|---|\n",
    "> | Walk | Walking: 4 mph (15 min/mi) | 87.5 |\n",
    "> | Walking | Walking: 4 mph (15 min/mi) | 87.5 |\n",
    "> | Run | Running: 6 mph (10 min/mile) | 180 |\n",
    "> | Running | Running: 6 mph (10 min/mile) | 180 |\n",
    "> | Sport | A common value in the \"Sports\" table | 120 |\n",
    "> | Bike | Bicycling: BMX or mountain | 180 |\n",
    "> | Outdoor Bike | Bicycling: BMX or mountain | 180 |\n",
    "> | Swim | Swimming: general | 108 |\n",
    "> | Swimming | Swimming: general | 108 |\n",
    "> | Aerobic Workout | Aerobics: low impact | 99 |\n",
    "> | Hike | Hiking: cross-country | 108 |\n",
    "> | HIIT | Aerobics, Step: high impact | 180 |\n",
    "> | Workout | Weight Lifting: general | 54 |\n",
    "> | Weights | Weight Lifting: general | 54 |\n",
    "> | Strength training | Weight Lifting: general | 54 |\n",
    "> | Yoga | Stretching, Hatha Yoga | 36 |\n",
    "> | Indoor climbing | Rock Climbing: ascending | 140.5 |\n",
    "> | Zumba | Dancing: Fast, ballet, twist | 108 |\n",
    "> | Tennis | Tennis: General | 126 |\n",
    "> | Spinning | Bicycling, Stationary: moderate | 126 |\n",
    "> | StairClimbing | Stair Step Machine: general | 108 |\n",
    "> "
   ]
  },
  {
   "cell_type": "markdown",
   "metadata": {},
   "source": [
    "- Focusing only on the last column `activity-00` (measurements contemporary to the datetime value)\n",
    "- Making a column for each physical activity, with a rolling mean indicating the peaks of activity"
   ]
  },
  {
   "cell_type": "code",
   "execution_count": 43,
   "metadata": {},
   "outputs": [],
   "source": [
    "# Making a dataframe containing a new column for each one of the 10 most commons activities, \n",
    "# which will contain a 1 for the rows in which the activity is present, and a 0 for the rows in \n",
    "# which the activity is not present.\n",
    "\n",
    "# Load calory consumption table\n",
    "caloryConsumption_perActivity: dict = json.loads(open(\"dataset/processed/activities_calory_consumption.json\", \"r\").read())\n",
    "\n",
    "current_activity = df_edited['activity-0:00']\n",
    "\n",
    "df_edited.drop(columns=activity_cols)\n",
    "df_edited[\"activity_current\"] = current_activity\n"
   ]
  },
  {
   "cell_type": "code",
   "execution_count": 44,
   "metadata": {},
   "outputs": [],
   "source": [
    "\n",
    "# Create new binary columns for each activity (first 5 more frequent)\n",
    "for activity in sorted_frequencies.keys():\n",
    "    df_edited[f'activity_{activity}'] = df_edited['activity_current'].apply(lambda x: 1 if x == activity else 0)\n",
    "    # apply a rolling mean\n",
    "    df_edited[f'activity_{activity}'] = df_edited[f'activity_{activity}'].rolling(window=3).mean()*caloryConsumption_perActivity.get(activity, 0)\n"
   ]
  },
  {
   "cell_type": "code",
   "execution_count": 45,
   "metadata": {},
   "outputs": [],
   "source": [
    "\n",
    "df_edited[\"cals\"] = df_edited[[f\"activity_{act}\" for act in sorted_frequencies.keys()] + [\"cals\"]].sum(axis=1)\n",
    "\n",
    "# Drop all activity related columns\n",
    "df_edited.drop(columns=[col for col in df_edited.columns if 'activity' in col.lower()], inplace=True)\n"
   ]
  },
  {
   "cell_type": "markdown",
   "metadata": {},
   "source": [
    "### f) Save the processed dataset to csv"
   ]
  },
  {
   "cell_type": "code",
   "execution_count": 46,
   "metadata": {},
   "outputs": [
    {
     "data": {
      "text/html": [
       "<div>\n",
       "<style scoped>\n",
       "    .dataframe tbody tr th:only-of-type {\n",
       "        vertical-align: middle;\n",
       "    }\n",
       "\n",
       "    .dataframe tbody tr th {\n",
       "        vertical-align: top;\n",
       "    }\n",
       "\n",
       "    .dataframe thead th {\n",
       "        text-align: right;\n",
       "    }\n",
       "</style>\n",
       "<table border=\"1\" class=\"dataframe\">\n",
       "  <thead>\n",
       "    <tr style=\"text-align: right;\">\n",
       "      <th></th>\n",
       "      <th>id</th>\n",
       "      <th>p_num</th>\n",
       "      <th>time</th>\n",
       "      <th>bg+1:00</th>\n",
       "      <th>m_num</th>\n",
       "      <th>bg</th>\n",
       "      <th>insulin</th>\n",
       "      <th>carbs</th>\n",
       "      <th>hr</th>\n",
       "      <th>steps</th>\n",
       "      <th>cals</th>\n",
       "    </tr>\n",
       "  </thead>\n",
       "  <tbody>\n",
       "    <tr>\n",
       "      <th>0</th>\n",
       "      <td>p01_0</td>\n",
       "      <td>0</td>\n",
       "      <td>2000-09-18 06:10:00</td>\n",
       "      <td>13.4</td>\n",
       "      <td>0</td>\n",
       "      <td>15.1</td>\n",
       "      <td>0.0417</td>\n",
       "      <td>0.0</td>\n",
       "      <td>0.0</td>\n",
       "      <td>0.0</td>\n",
       "      <td>0.0</td>\n",
       "    </tr>\n",
       "    <tr>\n",
       "      <th>1</th>\n",
       "      <td>p01_1</td>\n",
       "      <td>0</td>\n",
       "      <td>2000-09-18 06:25:00</td>\n",
       "      <td>12.8</td>\n",
       "      <td>1</td>\n",
       "      <td>14.4</td>\n",
       "      <td>0.0417</td>\n",
       "      <td>0.0</td>\n",
       "      <td>0.0</td>\n",
       "      <td>0.0</td>\n",
       "      <td>0.0</td>\n",
       "    </tr>\n",
       "    <tr>\n",
       "      <th>2</th>\n",
       "      <td>p01_2</td>\n",
       "      <td>0</td>\n",
       "      <td>2000-09-18 06:40:00</td>\n",
       "      <td>15.5</td>\n",
       "      <td>2</td>\n",
       "      <td>13.9</td>\n",
       "      <td>0.0417</td>\n",
       "      <td>0.0</td>\n",
       "      <td>0.0</td>\n",
       "      <td>0.0</td>\n",
       "      <td>0.0</td>\n",
       "    </tr>\n",
       "    <tr>\n",
       "      <th>3</th>\n",
       "      <td>p01_3</td>\n",
       "      <td>0</td>\n",
       "      <td>2000-09-18 06:55:00</td>\n",
       "      <td>14.8</td>\n",
       "      <td>3</td>\n",
       "      <td>13.8</td>\n",
       "      <td>0.0417</td>\n",
       "      <td>0.0</td>\n",
       "      <td>0.0</td>\n",
       "      <td>0.0</td>\n",
       "      <td>0.0</td>\n",
       "    </tr>\n",
       "    <tr>\n",
       "      <th>4</th>\n",
       "      <td>p01_4</td>\n",
       "      <td>0</td>\n",
       "      <td>2000-09-18 07:10:00</td>\n",
       "      <td>12.7</td>\n",
       "      <td>4</td>\n",
       "      <td>13.4</td>\n",
       "      <td>0.0417</td>\n",
       "      <td>0.0</td>\n",
       "      <td>0.0</td>\n",
       "      <td>0.0</td>\n",
       "      <td>0.0</td>\n",
       "    </tr>\n",
       "  </tbody>\n",
       "</table>\n",
       "</div>"
      ],
      "text/plain": [
       "      id  p_num                time  bg+1:00  m_num    bg  insulin  carbs  \\\n",
       "0  p01_0      0 2000-09-18 06:10:00     13.4      0  15.1   0.0417    0.0   \n",
       "1  p01_1      0 2000-09-18 06:25:00     12.8      1  14.4   0.0417    0.0   \n",
       "2  p01_2      0 2000-09-18 06:40:00     15.5      2  13.9   0.0417    0.0   \n",
       "3  p01_3      0 2000-09-18 06:55:00     14.8      3  13.8   0.0417    0.0   \n",
       "4  p01_4      0 2000-09-18 07:10:00     12.7      4  13.4   0.0417    0.0   \n",
       "\n",
       "    hr  steps  cals  \n",
       "0  0.0    0.0   0.0  \n",
       "1  0.0    0.0   0.0  \n",
       "2  0.0    0.0   0.0  \n",
       "3  0.0    0.0   0.0  \n",
       "4  0.0    0.0   0.0  "
      ]
     },
     "execution_count": 46,
     "metadata": {},
     "output_type": "execute_result"
    }
   ],
   "source": [
    "df_edited.fillna(0.0, inplace=True)\n",
    "df_edited.head(5) #to show first 5 rows of the dataset"
   ]
  },
  {
   "cell_type": "code",
   "execution_count": 47,
   "metadata": {},
   "outputs": [],
   "source": [
    "if not os.path.exists(\"dataset/processed\"):\n",
    "    os.makedirs(\"dataset/processed\")\n",
    "df_edited[[\"id\", \"m_num\", \"p_num\", \"time\", \"bg\", \"carbs\", \"insulin\", \"cals\", \"steps\", \"hr\", \"bg+1:00\"]].fillna(0.0).to_csv(\"dataset/processed/train.csv\")"
   ]
  },
  {
   "cell_type": "code",
   "execution_count": 48,
   "metadata": {},
   "outputs": [
    {
     "data": {
      "text/html": [
       "<div>\n",
       "<style scoped>\n",
       "    .dataframe tbody tr th:only-of-type {\n",
       "        vertical-align: middle;\n",
       "    }\n",
       "\n",
       "    .dataframe tbody tr th {\n",
       "        vertical-align: top;\n",
       "    }\n",
       "\n",
       "    .dataframe thead th {\n",
       "        text-align: right;\n",
       "    }\n",
       "</style>\n",
       "<table border=\"1\" class=\"dataframe\">\n",
       "  <thead>\n",
       "    <tr style=\"text-align: right;\">\n",
       "      <th></th>\n",
       "      <th>id</th>\n",
       "      <th>p_num</th>\n",
       "      <th>time</th>\n",
       "      <th>bg+1:00</th>\n",
       "      <th>m_num</th>\n",
       "      <th>bg</th>\n",
       "      <th>insulin</th>\n",
       "      <th>carbs</th>\n",
       "      <th>hr</th>\n",
       "      <th>steps</th>\n",
       "      <th>cals</th>\n",
       "    </tr>\n",
       "  </thead>\n",
       "  <tbody>\n",
       "    <tr>\n",
       "      <th>0</th>\n",
       "      <td>p01_0</td>\n",
       "      <td>0</td>\n",
       "      <td>2000-09-18 06:10:00</td>\n",
       "      <td>13.4</td>\n",
       "      <td>0</td>\n",
       "      <td>15.1</td>\n",
       "      <td>0.0417</td>\n",
       "      <td>0.0</td>\n",
       "      <td>0.0</td>\n",
       "      <td>0.0</td>\n",
       "      <td>0.0</td>\n",
       "    </tr>\n",
       "    <tr>\n",
       "      <th>1</th>\n",
       "      <td>p01_1</td>\n",
       "      <td>0</td>\n",
       "      <td>2000-09-18 06:25:00</td>\n",
       "      <td>12.8</td>\n",
       "      <td>1</td>\n",
       "      <td>14.4</td>\n",
       "      <td>0.0417</td>\n",
       "      <td>0.0</td>\n",
       "      <td>0.0</td>\n",
       "      <td>0.0</td>\n",
       "      <td>0.0</td>\n",
       "    </tr>\n",
       "    <tr>\n",
       "      <th>2</th>\n",
       "      <td>p01_2</td>\n",
       "      <td>0</td>\n",
       "      <td>2000-09-18 06:40:00</td>\n",
       "      <td>15.5</td>\n",
       "      <td>2</td>\n",
       "      <td>13.9</td>\n",
       "      <td>0.0417</td>\n",
       "      <td>0.0</td>\n",
       "      <td>0.0</td>\n",
       "      <td>0.0</td>\n",
       "      <td>0.0</td>\n",
       "    </tr>\n",
       "    <tr>\n",
       "      <th>3</th>\n",
       "      <td>p01_3</td>\n",
       "      <td>0</td>\n",
       "      <td>2000-09-18 06:55:00</td>\n",
       "      <td>14.8</td>\n",
       "      <td>3</td>\n",
       "      <td>13.8</td>\n",
       "      <td>0.0417</td>\n",
       "      <td>0.0</td>\n",
       "      <td>0.0</td>\n",
       "      <td>0.0</td>\n",
       "      <td>0.0</td>\n",
       "    </tr>\n",
       "    <tr>\n",
       "      <th>4</th>\n",
       "      <td>p01_4</td>\n",
       "      <td>0</td>\n",
       "      <td>2000-09-18 07:10:00</td>\n",
       "      <td>12.7</td>\n",
       "      <td>4</td>\n",
       "      <td>13.4</td>\n",
       "      <td>0.0417</td>\n",
       "      <td>0.0</td>\n",
       "      <td>0.0</td>\n",
       "      <td>0.0</td>\n",
       "      <td>0.0</td>\n",
       "    </tr>\n",
       "  </tbody>\n",
       "</table>\n",
       "</div>"
      ],
      "text/plain": [
       "      id  p_num                time  bg+1:00  m_num    bg  insulin  carbs  \\\n",
       "0  p01_0      0 2000-09-18 06:10:00     13.4      0  15.1   0.0417    0.0   \n",
       "1  p01_1      0 2000-09-18 06:25:00     12.8      1  14.4   0.0417    0.0   \n",
       "2  p01_2      0 2000-09-18 06:40:00     15.5      2  13.9   0.0417    0.0   \n",
       "3  p01_3      0 2000-09-18 06:55:00     14.8      3  13.8   0.0417    0.0   \n",
       "4  p01_4      0 2000-09-18 07:10:00     12.7      4  13.4   0.0417    0.0   \n",
       "\n",
       "    hr  steps  cals  \n",
       "0  0.0    0.0   0.0  \n",
       "1  0.0    0.0   0.0  \n",
       "2  0.0    0.0   0.0  \n",
       "3  0.0    0.0   0.0  \n",
       "4  0.0    0.0   0.0  "
      ]
     },
     "execution_count": 48,
     "metadata": {},
     "output_type": "execute_result"
    }
   ],
   "source": [
    "df_edited.head(5) #to show first 5 rows of the dataset"
   ]
  },
  {
   "cell_type": "markdown",
   "metadata": {},
   "source": [
    "### Save on csv per patient"
   ]
  },
  {
   "cell_type": "code",
   "execution_count": 49,
   "metadata": {},
   "outputs": [],
   "source": [
    "perPatient = df_edited.groupby(by=\"p_num\")\n",
    "\n",
    "if not os.path.exists(\"dataset/processed/patients\"):\n",
    "    os.makedirs(\"dataset/processed/patients\")\n",
    "\n",
    "for patient in perPatient:\n",
    "    patient[1][[\"id\", \"m_num\", \"p_num\", \"time\", \"bg\", \"carbs\", \"insulin\", \"cals\", \"steps\", \"hr\", \"bg+1:00\"]].fillna(0.0).\\\n",
    "        to_csv(\"dataset/processed/patients/patient\" + str(patient[0]) + \".csv\", index=False)"
   ]
  }
 ],
 "metadata": {
  "kernelspec": {
   "display_name": "Python 3",
   "language": "python",
   "name": "python3"
  },
  "language_info": {
   "codemirror_mode": {
    "name": "ipython",
    "version": 3
   },
   "file_extension": ".py",
   "mimetype": "text/x-python",
   "name": "python",
   "nbconvert_exporter": "python",
   "pygments_lexer": "ipython3",
   "version": "3.12.3"
  }
 },
 "nbformat": 4,
 "nbformat_minor": 2
}
